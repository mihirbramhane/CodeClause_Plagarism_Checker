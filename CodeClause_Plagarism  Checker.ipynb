{
 "cells": [
  {
   "cell_type": "code",
   "execution_count": 63,
   "id": "fa2fcf67",
   "metadata": {},
   "outputs": [],
   "source": [
    "import os"
   ]
  },
  {
   "cell_type": "code",
   "execution_count": null,
   "id": "3b32c1a1",
   "metadata": {},
   "outputs": [],
   "source": []
  },
  {
   "cell_type": "code",
   "execution_count": 64,
   "id": "3b53f378",
   "metadata": {},
   "outputs": [],
   "source": [
    "from sklearn.feature_extraction.text import TfidfVectorizer"
   ]
  },
  {
   "cell_type": "code",
   "execution_count": 65,
   "id": "38681dbf",
   "metadata": {},
   "outputs": [],
   "source": [
    "from sklearn.metrics.pairwise import cosine_similarity"
   ]
  },
  {
   "cell_type": "code",
   "execution_count": 66,
   "id": "9a5ef3ce",
   "metadata": {},
   "outputs": [],
   "source": [
    "sample_files = [doc for doc in os.listdir() if doc.endswith('.txt')]"
   ]
  },
  {
   "cell_type": "code",
   "execution_count": null,
   "id": "8a83721f",
   "metadata": {},
   "outputs": [],
   "source": []
  },
  {
   "cell_type": "code",
   "execution_count": 67,
   "id": "8bb2735a",
   "metadata": {},
   "outputs": [
    {
     "data": {
      "text/plain": [
       "['lorem 2.txt', 'lorem 3.txt', 'lorem.txt', 'simpletext.txt']"
      ]
     },
     "execution_count": 67,
     "metadata": {},
     "output_type": "execute_result"
    }
   ],
   "source": [
    "sample_files \n"
   ]
  },
  {
   "cell_type": "code",
   "execution_count": 68,
   "id": "bb7bfa94",
   "metadata": {},
   "outputs": [],
   "source": [
    "sample_contents = [open(File).read() for File in sample_files]"
   ]
  },
  {
   "cell_type": "code",
   "execution_count": 69,
   "id": "80f7ca16",
   "metadata": {},
   "outputs": [],
   "source": [
    "vectorize = lambda Text: TfidfVectorizer().fit_transform(Text).toarray()"
   ]
  },
  {
   "cell_type": "code",
   "execution_count": 70,
   "id": "6d745437",
   "metadata": {},
   "outputs": [],
   "source": [
    "similarity = lambda doc1, doc2: cosine_similarity([doc1, doc2])"
   ]
  },
  {
   "cell_type": "code",
   "execution_count": 71,
   "id": "30af6433",
   "metadata": {},
   "outputs": [],
   "source": [
    "vectors = vectorize(sample_contents)"
   ]
  },
  {
   "cell_type": "code",
   "execution_count": 72,
   "id": "4aa5cbe0",
   "metadata": {},
   "outputs": [],
   "source": [
    "s_vectors = list(zip(sample_files, vectors))"
   ]
  },
  {
   "cell_type": "markdown",
   "id": "f4fce3ba",
   "metadata": {},
   "source": [
    "## checking plagarasm function "
   ]
  },
  {
   "cell_type": "code",
   "execution_count": 73,
   "id": "f516518e",
   "metadata": {},
   "outputs": [
    {
     "name": "stdout",
     "output_type": "stream",
     "text": [
      "('lorem 2.txt', 'lorem 3.txt', 0.10028927479112626)\n",
      "('lorem 2.txt', 'simpletext.txt', 0.04496475600502001)\n",
      "('lorem 2.txt', 'lorem.txt', 0.21856040071050575)\n"
     ]
    }
   ],
   "source": [
    "def check_plagarism():\n",
    "    results = set()\n",
    "    global s_vectors\n",
    "    for sample_a, text_vector_a in s_vectors:\n",
    "        new_vectors = s_vectors.copy() \n",
    "        current_index = new_vectors.index((sample_a, text_vector_a))\n",
    "        del new_vectors[current_index]\n",
    "        for sample_b, text_vector_b in new_vectors:\n",
    "            sim_score = similarity(text_vector_a, text_vector_b)[0][1]\n",
    "            sample_pair = sorted((sample_a, sample_b))\n",
    "            score = sample_pair[0], sample_pair[1], sim_score\n",
    "            results.add(score)\n",
    "        return results\n",
    "for data in check_plagarism():\n",
    "        print(data)"
   ]
  },
  {
   "cell_type": "code",
   "execution_count": null,
   "id": "89a9f7a5",
   "metadata": {},
   "outputs": [],
   "source": []
  }
 ],
 "metadata": {
  "kernelspec": {
   "display_name": "Python 3 (ipykernel)",
   "language": "python",
   "name": "python3"
  },
  "language_info": {
   "codemirror_mode": {
    "name": "ipython",
    "version": 3
   },
   "file_extension": ".py",
   "mimetype": "text/x-python",
   "name": "python",
   "nbconvert_exporter": "python",
   "pygments_lexer": "ipython3",
   "version": "3.9.12"
  }
 },
 "nbformat": 4,
 "nbformat_minor": 5
}
